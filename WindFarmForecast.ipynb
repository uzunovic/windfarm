{
 "cells": [
  {
   "cell_type": "markdown",
   "id": "42fa6fb0",
   "metadata": {},
   "source": [
    "# Wind Farm predictive maintenance with Sagemaker"
   ]
  },
  {
   "cell_type": "markdown",
   "id": "e1f72512",
   "metadata": {},
   "source": [
    "## Prepare for development"
   ]
  },
  {
   "cell_type": "code",
   "execution_count": null,
   "id": "eac59e4a",
   "metadata": {},
   "outputs": [],
   "source": [
    "# S3 prefix\n",
    "prefix = \"Scikit-wind\"\n",
    "\n",
    "import sagemaker\n",
    "from sagemaker import get_execution_role\n",
    "\n",
    "sagemaker_session = sagemaker.Session()\n",
    "\n",
    "# Get a SageMaker-compatible role used by this Notebook Instance.\n",
    "role = get_execution_role()"
   ]
  },
  {
   "cell_type": "markdown",
   "id": "72ceb967",
   "metadata": {},
   "source": [
    "## Train and deploy a model"
   ]
  },
  {
   "cell_type": "markdown",
   "id": "cadc8d08",
   "metadata": {},
   "source": [
    "### Create Sagemaker estimator"
   ]
  },
  {
   "cell_type": "code",
   "execution_count": null,
   "id": "107824d9",
   "metadata": {},
   "outputs": [],
   "source": [
    "# Create Sagemaker estimator\n",
    "from sagemaker.sklearn.estimator import SKLearn\n",
    "\n",
    "FRAMEWORK_VERSION = \"0.23-1\"\n",
    "script_path = \"windfarm_train.py\"\n",
    "\n",
    "sklearn = SKLearn(\n",
    "    entry_point=script_path, # this is where the training code is\n",
    "    framework_version=FRAMEWORK_VERSION,\n",
    "    instance_type=\"ml.m5.xlarge\",\n",
    "    role=role,\n",
    "    sagemaker_session=sagemaker_session,\n",
    "    hyperparameters={\"max_depth\": 10},\n",
    ")"
   ]
  },
  {
   "cell_type": "markdown",
   "id": "82307771",
   "metadata": {},
   "source": [
    "### Train a model"
   ]
  },
  {
   "cell_type": "code",
   "execution_count": null,
   "id": "f8619cc6",
   "metadata": {},
   "outputs": [],
   "source": [
    "import boto3\n",
    "s3 = boto3.resource('s3')\n",
    "s3.Bucket(\"windfarm-refined-data\").download_file('windfarm_train_data.csv', 'windfarm_train_data.csv')\n",
    "s3.Bucket(\"windfarm-refined-data\").download_file('windfarm_test_data.csv', 'windfarm_test_data.csv')\n",
    "train_input = sagemaker_session.upload_data(\"windfarm_train_data.csv\")"
   ]
  },
  {
   "cell_type": "code",
   "execution_count": null,
   "id": "34610e23",
   "metadata": {},
   "outputs": [],
   "source": [
    "sklearn.fit({\"train\": train_input})"
   ]
  },
  {
   "cell_type": "markdown",
   "id": "f6e4be97",
   "metadata": {},
   "source": [
    "### Deploy the model"
   ]
  },
  {
   "cell_type": "code",
   "execution_count": null,
   "id": "3e2b0882",
   "metadata": {},
   "outputs": [],
   "source": [
    "predictor = sklearn.deploy(initial_instance_count=1, instance_type=\"ml.m5.xlarge\")"
   ]
  },
  {
   "cell_type": "markdown",
   "id": "d53eb75f",
   "metadata": {},
   "source": [
    "## Test the model"
   ]
  },
  {
   "cell_type": "code",
   "execution_count": null,
   "id": "56f893d1",
   "metadata": {},
   "outputs": [],
   "source": [
    "# Get test data\n",
    "import pandas as pd\n",
    "raw_data = [ pd.read_csv(file, engine=\"python\", header=None, delimiter='|') for file in [\"windfarm_test_data.csv\"]]\n",
    "test_data = pd.concat(raw_data)\n",
    "\n",
    "# labels are in the last column\n",
    "test_y = test_data.iloc[:5000, -1]\n",
    "test_X = test_data.iloc[:5000, :-1]"
   ]
  },
  {
   "cell_type": "code",
   "execution_count": null,
   "id": "275e34c0",
   "metadata": {},
   "outputs": [],
   "source": [
    "# Create batch transformer based on the trained model\n",
    "# transformer = sklearn.transformer(instance_count=1, instance_type='ml.m4.xlarge')"
   ]
  },
  {
   "cell_type": "code",
   "execution_count": null,
   "id": "1b565be0",
   "metadata": {},
   "outputs": [],
   "source": [
    "# Get predictions for the test dataset\n",
    "preds = predictor.predict(test_X.values)\n",
    "\n",
    "print(\"Error percentage: \", (sum(abs(preds-test_y.values))*100)/num_examples)"
   ]
  }
 ],
 "metadata": {
  "kernelspec": {
   "display_name": "conda_mxnet_p36",
   "language": "python",
   "name": "conda_mxnet_p36"
  },
  "language_info": {
   "codemirror_mode": {
    "name": "ipython",
    "version": 3
   },
   "file_extension": ".py",
   "mimetype": "text/x-python",
   "name": "python",
   "nbconvert_exporter": "python",
   "pygments_lexer": "ipython3",
   "version": "3.6.13"
  }
 },
 "nbformat": 4,
 "nbformat_minor": 5
}
