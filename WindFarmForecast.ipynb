{
 "cells": [
  {
   "cell_type": "markdown",
   "id": "e0c27bb3",
   "metadata": {},
   "source": [
    "# Wind Farm predictive maintenance with Sagemaker"
   ]
  },
  {
   "cell_type": "markdown",
   "id": "8feb019f",
   "metadata": {},
   "source": [
    "## Prepare for development"
   ]
  },
  {
   "cell_type": "code",
   "execution_count": null,
   "id": "e3d2fe23",
   "metadata": {},
   "outputs": [],
   "source": [
    "# S3 prefix\n",
    "prefix = \"Scikit-wind\"\n",
    "\n",
    "import sagemaker\n",
    "from sagemaker import get_execution_role\n",
    "\n",
    "sagemaker_session = sagemaker.Session()\n",
    "\n",
    "# Get a SageMaker-compatible role used by this Notebook Instance.\n",
    "role = get_execution_role()"
   ]
  },
  {
   "cell_type": "markdown",
   "id": "d8a83ce6",
   "metadata": {},
   "source": [
    "## Train and deploy a model"
   ]
  },
  {
   "cell_type": "markdown",
   "id": "2e900ba3",
   "metadata": {},
   "source": [
    "### Create Sagemaker estimator"
   ]
  },
  {
   "cell_type": "code",
   "execution_count": null,
   "id": "befd0500",
   "metadata": {},
   "outputs": [],
   "source": [
    "# Create Sagemaker estimator\n",
    "from sagemaker.sklearn.estimator import SKLearn\n",
    "\n",
    "FRAMEWORK_VERSION = \"0.23-1\"\n",
    "script_path = \"windfarm_train.py\"\n",
    "\n",
    "sklearn = SKLearn(\n",
    "    entry_point=script_path, # this is where the training code is\n",
    "    framework_version=FRAMEWORK_VERSION,\n",
    "    instance_type=\"ml.m5.xlarge\",\n",
    "    role=role,\n",
    "    sagemaker_session=sagemaker_session,\n",
    "    hyperparameters={\"max_depth\": 10},\n",
    ")"
   ]
  },
  {
   "cell_type": "markdown",
   "id": "8bf7df11",
   "metadata": {},
   "source": [
    "### Train a model"
   ]
  },
  {
   "cell_type": "code",
   "execution_count": null,
   "id": "56c24e5e",
   "metadata": {},
   "outputs": [],
   "source": [
    "import boto3\n",
    "s3 = boto3.resource('s3')\n",
    "s3.Bucket(\"windfarm-refined-data\").download_file('windfarm_train_data.csv', 'windfarm_train_data.csv')\n",
    "s3.Bucket(\"windfarm-refined-data\").download_file('windfarm_test_data.csv', 'windfarm_test_data.csv')\n",
    "train_input = sagemaker_session.upload_data(\"windfarm_train_data.csv\")\n",
    "num_examples = 121"
   ]
  },
  {
   "cell_type": "code",
   "execution_count": null,
   "id": "1d8d362b",
   "metadata": {},
   "outputs": [],
   "source": [
    "sklearn.fit({\"train\": train_input})"
   ]
  },
  {
   "cell_type": "markdown",
   "id": "12969dac",
   "metadata": {},
   "source": [
    "### Deploy the model"
   ]
  },
  {
   "cell_type": "code",
   "execution_count": null,
   "id": "cb540d76",
   "metadata": {},
   "outputs": [],
   "source": [
    "predictor = sklearn.deploy(initial_instance_count=1, instance_type=\"ml.m5.xlarge\")"
   ]
  },
  {
   "cell_type": "markdown",
   "id": "e75952f6",
   "metadata": {},
   "source": [
    "## Test the model"
   ]
  },
  {
   "cell_type": "code",
   "execution_count": null,
   "id": "e45be062",
   "metadata": {},
   "outputs": [],
   "source": [
    "# Get test data\n",
    "import pandas as pd\n",
    "raw_data = [ pd.read_csv(file, engine=\"python\", header=None, delimiter='|') for file in [\"windfarm_test_data.csv\"]]\n",
    "test_data = pd.concat(raw_data)\n",
    "number_examples = 5000\n",
    "# labels are in the last column\n",
    "test_y = test_data.iloc[:number_examples, -1]\n",
    "test_X = test_data.iloc[:number_examples, :-1]"
   ]
  },
  {
   "cell_type": "code",
   "execution_count": null,
   "id": "acfc95cd",
   "metadata": {},
   "outputs": [],
   "source": [
    "# Create batch transformer based on the trained model\n",
    "# transformer = sklearn.transformer(instance_count=1, instance_type='ml.m4.xlarge')"
   ]
  },
  {
   "cell_type": "code",
   "execution_count": null,
   "id": "16a69aad",
   "metadata": {},
   "outputs": [],
   "source": [
    "# Get predictions for the test dataset\n",
    "preds = predictor.predict(test_X.values)\n",
    "\n",
    "\n",
    "print(\"Error percentage: \", (sum(abs(preds-test_y.values)))*1000/num_examples)"
   ]
  }
 ],
 "metadata": {
  "kernelspec": {
   "display_name": "conda_mxnet_p36",
   "language": "python",
   "name": "conda_mxnet_p36"
  },
  "language_info": {
   "codemirror_mode": {
    "name": "ipython",
    "version": 3
   },
   "file_extension": ".py",
   "mimetype": "text/x-python",
   "name": "python",
   "nbconvert_exporter": "python",
   "pygments_lexer": "ipython3",
   "version": "3.6.13"
  }
 },
 "nbformat": 4,
 "nbformat_minor": 5
}
