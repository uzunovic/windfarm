{
 "cells": [
  {
   "cell_type": "markdown",
   "id": "dec48cac",
   "metadata": {},
   "source": [
    "# Wind Farm predictive maintenance with Sagemaker"
   ]
  },
  {
   "cell_type": "markdown",
   "id": "8c095a40",
   "metadata": {},
   "source": [
    "## Prepare for development"
   ]
  },
  {
   "cell_type": "code",
   "execution_count": null,
   "id": "74d4d211",
   "metadata": {},
   "outputs": [],
   "source": [
    "# S3 prefix\n",
    "prefix = \"Scikit-wind\"\n",
    "\n",
    "import sagemaker\n",
    "from sagemaker import get_execution_role\n",
    "\n",
    "sagemaker_session = sagemaker.Session()\n",
    "\n",
    "# Get a SageMaker-compatible role used by this Notebook Instance.\n",
    "role = get_execution_role()"
   ]
  },
  {
   "cell_type": "markdown",
   "id": "990024a5",
   "metadata": {},
   "source": [
    "## Train and deploy a model"
   ]
  },
  {
   "cell_type": "markdown",
   "id": "c66a9dba",
   "metadata": {},
   "source": [
    "### Create Sagemaker estimator"
   ]
  },
  {
   "cell_type": "code",
   "execution_count": null,
   "id": "36a598cf",
   "metadata": {},
   "outputs": [],
   "source": [
    "# Create Sagemaker estimator\n",
    "from sagemaker.sklearn.estimator import SKLearn\n",
    "\n",
    "FRAMEWORK_VERSION = \"0.23-1\"\n",
    "script_path = \"windfarm_train.py\"\n",
    "\n",
    "sklearn = SKLearn(\n",
    "    entry_point=script_path, # this is where the training code is\n",
    "    framework_version=FRAMEWORK_VERSION,\n",
    "    instance_type=\"ml.m5.xlarge\",\n",
    "    role=role,\n",
    "    sagemaker_session=sagemaker_session,\n",
    "    hyperparameters={\"max_leaf_nodes\": 30},\n",
    ")"
   ]
  },
  {
   "cell_type": "markdown",
   "id": "426b354d",
   "metadata": {},
   "source": [
    "### Train a model"
   ]
  },
  {
   "cell_type": "code",
   "execution_count": null,
   "id": "37c5d5e0",
   "metadata": {},
   "outputs": [],
   "source": [
    "train_input = sagemaker_session.upload_data(\"windfarm_train_data.csv\")"
   ]
  },
  {
   "cell_type": "code",
   "execution_count": null,
   "id": "d673b119",
   "metadata": {},
   "outputs": [],
   "source": [
    "sklearn.fit({\"train\": train_input})"
   ]
  },
  {
   "cell_type": "markdown",
   "id": "c13343d1",
   "metadata": {},
   "source": [
    "### Deploy the model"
   ]
  },
  {
   "cell_type": "code",
   "execution_count": null,
   "id": "d23de6d2",
   "metadata": {},
   "outputs": [],
   "source": [
    "predictor = sklearn.deploy(initial_instance_count=1, instance_type=\"ml.m5.xlarge\")"
   ]
  },
  {
   "cell_type": "markdown",
   "id": "e038b5e9",
   "metadata": {},
   "source": [
    "## Test the model"
   ]
  },
  {
   "cell_type": "code",
   "execution_count": null,
   "id": "28cd5c7d",
   "metadata": {},
   "outputs": [],
   "source": [
    "# Get test data\n",
    "import pandas as pd\n",
    "raw_data = [ pd.read_csv(file, engine=\"python\", header=None, delimiter='|') for file in [\"windfarm_train_data.csv\"]]\n",
    "test_data = pd.concat(raw_data)\n",
    "\n",
    "# labels are in the last column\n",
    "test_y = test_data.iloc[:5000, -1]\n",
    "test_X = test_data.iloc[:5000, :-1]"
   ]
  },
  {
   "cell_type": "code",
   "execution_count": null,
   "id": "c62f5f0b",
   "metadata": {},
   "outputs": [],
   "source": [
    "# Create batch transformer based on the trained model\n",
    "transformer = sklearn.transformer(instance_count=1, instance_type='ml.m4.xlarge')"
   ]
  },
  {
   "cell_type": "code",
   "execution_count": null,
   "id": "585a765e",
   "metadata": {},
   "outputs": [],
   "source": [
    "# Get predictions for the test dataset\n",
    "preds = predictor.predict(test_X.values)\n",
    "\n",
    "print(\"Error percentage: \", (sum(abs(preds-test_y.values))*100)/num_examples)"
   ]
  },
  {
   "cell_type": "markdown",
   "id": "076fa259",
   "metadata": {},
   "source": [
    "## Clean up"
   ]
  },
  {
   "cell_type": "code",
   "execution_count": null,
   "id": "107018c6",
   "metadata": {},
   "outputs": [],
   "source": [
    "# Delete deployed endpoint\n",
    "predictor.delete_endpoint()"
   ]
  }
 ],
 "metadata": {
  "kernelspec": {
   "display_name": "conda_mxnet_p36",
   "language": "python",
   "name": "conda_mxnet_p36"
  },
  "language_info": {
   "codemirror_mode": {
    "name": "ipython",
    "version": 3
   },
   "file_extension": ".py",
   "mimetype": "text/x-python",
   "name": "python",
   "nbconvert_exporter": "python",
   "pygments_lexer": "ipython3",
   "version": "3.6.13"
  }
 },
 "nbformat": 4,
 "nbformat_minor": 5
}
